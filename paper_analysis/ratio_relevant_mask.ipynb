{
 "cells": [
  {
   "cell_type": "code",
   "execution_count": null,
   "metadata": {},
   "outputs": [],
   "source": [
    "import numpy as np"
   ]
  },
  {
   "cell_type": "code",
   "execution_count": null,
   "metadata": {},
   "outputs": [],
   "source": [
    "def patch_accuracy(mask_method, oracle_T_dimension):\n",
    "    \"\"\"\n",
    "    Computes the patch accuracy\n",
    "\n",
    "    Parameters:\n",
    "    mask_method (numpy.ndarray): The method mask of shape (T, H, W).\n",
    "    mask_oracle (numpy.ndarray): The oracle mask of shape (T).\n",
    "\n",
    "    Returns:\n",
    "    float: The ratio of relevant masks in total masks\n",
    "    \"\"\"\n",
    "    assert mask_method.shape[0] == oracle_T_dimension.shape[0], \"Masks must have the same shape\"\n",
    "    return np.sum(mask_method[oracle_T_dimension, :, :]) / np.sum(mask_method)\n",
    "    "
   ]
  }
 ],
 "metadata": {
  "kernelspec": {
   "display_name": ".env",
   "language": "python",
   "name": "python3"
  },
  "language_info": {
   "codemirror_mode": {
    "name": "ipython",
    "version": 3
   },
   "file_extension": ".py",
   "mimetype": "text/x-python",
   "name": "python",
   "nbconvert_exporter": "python",
   "pygments_lexer": "ipython3",
   "version": "3.10.12"
  }
 },
 "nbformat": 4,
 "nbformat_minor": 2
}
