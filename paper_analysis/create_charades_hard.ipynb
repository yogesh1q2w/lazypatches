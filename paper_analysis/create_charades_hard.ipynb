{
 "cells": [
  {
   "cell_type": "code",
   "execution_count": null,
   "metadata": {},
   "outputs": [],
   "source": [
    "import csv\n",
    "import re\n",
    "import numpy as np\n",
    "import json\n",
    "from collections import defaultdict\n",
    "\n",
    "\n",
    "file_path = \"/home/atuin/g102ea/shared/group_10/datasets/charades/anotations/Charades/Charades_v1_test.csv\"  \n",
    "\n",
    "actions_info_dict = defaultdict(lambda: {\"number\": 0, \"ratio\": 0, \"video_ids\": []})\n",
    "\n",
    "total_actions = 0\n",
    "\n",
    "\n",
    "all_videos = set()  # save all video info\n",
    "\n",
    "with open(file_path, mode='r', encoding='utf-8') as file:\n",
    "    reader = csv.DictReader(file)\n",
    "\n",
    "    for row in reader:\n",
    "        actions_str = row['actions'] \n",
    "        video_id = row['id']  \n",
    "        all_videos.add(video_id)  \n",
    "        action_codes = re.findall(r'c\\d+', actions_str)  # match actions index\n",
    "        \n",
    "        # update actions_info_dict\n",
    "        for action in action_codes:\n",
    "            actions_info_dict[action][\"number\"] += 1\n",
    "            total_actions += 1  # count the number of actions appealing\n",
    "            if video_id not in actions_info_dict[action][\"video_ids\"]:\n",
    "                actions_info_dict[action][\"video_ids\"].append(video_id)\n",
    "\n",
    "\n",
    "for action, info in actions_info_dict.items():\n",
    "    info[\"ratio\"] = info[\"number\"] / total_actions if total_actions > 0 else 0.0\n",
    "\n",
    "# sort\n",
    "actions_info = dict(sorted(actions_info_dict.items(), key=lambda x: x[1][\"number\"]))"
   ]
  },
  {
   "cell_type": "code",
   "execution_count": 17,
   "metadata": {},
   "outputs": [],
   "source": [
    "N_TOTAL = 1500"
   ]
  },
  {
   "cell_type": "code",
   "execution_count": 18,
   "metadata": {},
   "outputs": [],
   "source": [
    "n_samples_per_action = {k: int(np.ceil(v[\"ratio\"] * N_TOTAL)) for k, v in actions_info.items()}"
   ]
  },
  {
   "cell_type": "code",
   "execution_count": null,
   "metadata": {},
   "outputs": [],
   "source": [
    "from dataset.charades_mcq import parse_video_action_csv, parse_action_id_mapping\n",
    "labels = parse_video_action_csv(\"/home/atuin/g102ea/shared/group_10/datasets/charades/anotations/Charades/Charades_v1_test.csv\")"
   ]
  },
  {
   "cell_type": "code",
   "execution_count": 19,
   "metadata": {},
   "outputs": [],
   "source": [
    "video_actiontime = {i[\"id\"]: {\"actions\": i[\"actions\"], \"length\": i[\"length\"]} for i in labels}"
   ]
  },
  {
   "cell_type": "code",
   "execution_count": 69,
   "metadata": {},
   "outputs": [],
   "source": [
    "localization = {i: {j[0]: min(1, (min(float(v[\"length\"]), float(j[2])) - max(float(j[1]), 0))/float(v[\"length\"])) for j in v[\"actions\"]} for i, v in video_actiontime.items()}"
   ]
  },
  {
   "cell_type": "code",
   "execution_count": 83,
   "metadata": {},
   "outputs": [],
   "source": [
    "final_set = {}\n",
    "for action in n_samples_per_action:\n",
    "    n_samples_action = n_samples_per_action[action]\n",
    "    videos_for_action = actions_info[action]\n",
    "    available_localizations = sorted([(localization[i][action], i) for i in videos_for_action[\"video_ids\"]])\n",
    "    final_set[action] = {\"number\": n_samples_action,\n",
    "                        \"ratio\": videos_for_action[\"ratio\"],\n",
    "                        \"videos\": [i[1] for i in available_localizations][:n_samples_action]}"
   ]
  },
  {
   "cell_type": "code",
   "execution_count": 97,
   "metadata": {},
   "outputs": [],
   "source": [
    "json.dump(final_set, open(\"/home/atuin/g102ea/shared/group_10/datasets/charades/subset_charades_hard.json\", \"w\"))"
   ]
  }
 ],
 "metadata": {
  "kernelspec": {
   "display_name": ".env",
   "language": "python",
   "name": "python3"
  },
  "language_info": {
   "codemirror_mode": {
    "name": "ipython",
    "version": 3
   },
   "file_extension": ".py",
   "mimetype": "text/x-python",
   "name": "python",
   "nbconvert_exporter": "python",
   "pygments_lexer": "ipython3",
   "version": "3.10.12"
  }
 },
 "nbformat": 4,
 "nbformat_minor": 2
}
