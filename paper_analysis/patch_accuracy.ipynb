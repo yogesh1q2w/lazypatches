{
 "cells": [
  {
   "cell_type": "code",
   "execution_count": null,
   "metadata": {},
   "outputs": [],
   "source": [
    "import json\n",
    "import pickle\n",
    "import numpy as np\n",
    "from inference.utils.vision_process import fetch_video"
   ]
  },
  {
   "cell_type": "code",
   "execution_count": null,
   "metadata": {},
   "outputs": [],
   "source": [
    "data = json.load(open(\"/home/atuin/g102ea/shared/group_10/datasets/charades/subset_charades_mcq_with_time.json\", \"r\"))\n",
    "masks = pickle.load(open(\"/home/atuin/g102ea/shared/group_10/results/analysis/charades/charades_tb_8_1%_0.5/masks.json\", \"rb\"))"
   ]
  },
  {
   "cell_type": "code",
   "execution_count": null,
   "metadata": {},
   "outputs": [],
   "source": [
    "def mask_relevance(mask, oracle):\n",
    "    return float(mask[oracle[0]:oracle[1], ...].sum()/mask.sum())"
   ]
  },
  {
   "cell_type": "code",
   "execution_count": null,
   "metadata": {},
   "outputs": [],
   "source": [
    "def get_random_mask(shape, budget):\n",
    "    array = np.zeros(shape, dtype=bool)\n",
    "    total_elements = np.prod(shape)\n",
    "    indices = np.random.choice(total_elements, budget, replace=False)\n",
    "    np.put(array, indices, True)\n",
    "    return array"
   ]
  },
  {
   "cell_type": "code",
   "execution_count": null,
   "metadata": {},
   "outputs": [],
   "source": [
    "uniform_patch_accuracy = []\n",
    "patch_accuracy = []\n",
    "oracle = []\n",
    "for i in range(len(masks)):\n",
    "    mask = np.array(masks[i])\n",
    "    video_length = data[\"mcq_data\"][\"video_lengths\"][i]\n",
    "    timestamps = data[\"mcq_data\"][\"mcq_timestamps\"][i]\n",
    "    timestamps = (max(timestamps[0], 0), min(timestamps[1], video_length))\n",
    "    oracle_frames = (int(max(0, timestamps[0]/video_length * mask.shape[0])), int(min(mask.shape[0], np.ceil(timestamps[1]/video_length * mask.shape[0]))))\n",
    "    patch_accuracy.append(mask_relevance(mask, oracle_frames))\n",
    "    random_mask = get_random_mask(mask.shape, mask.sum())\n",
    "    uniform_patch_accuracy.append(mask_relevance(random_mask, oracle_frames))\n",
    "    oracle.append((oracle_frames, mask.shape[0]))"
   ]
  },
  {
   "cell_type": "code",
   "execution_count": null,
   "metadata": {},
   "outputs": [],
   "source": [
    "print(\"Our avg patch accuracy = \", sum(patch_accuracy)/len(patch_accuracy))\n",
    "print(\"Uniform avg patch accuracy = \", sum(uniform_patch_accuracy)/len(uniform_patch_accuracy))"
   ]
  },
  {
   "cell_type": "code",
   "execution_count": null,
   "metadata": {},
   "outputs": [],
   "source": [
    "sum([1 for i in oracle if (i[0][1] - i[0][0])/i[1] > 0.35])"
   ]
  }
 ],
 "metadata": {
  "kernelspec": {
   "display_name": ".env",
   "language": "python",
   "name": "python3"
  },
  "language_info": {
   "codemirror_mode": {
    "name": "ipython",
    "version": 3
   },
   "file_extension": ".py",
   "mimetype": "text/x-python",
   "name": "python",
   "nbconvert_exporter": "python",
   "pygments_lexer": "ipython3",
   "version": "3.10.12"
  }
 },
 "nbformat": 4,
 "nbformat_minor": 2
}
