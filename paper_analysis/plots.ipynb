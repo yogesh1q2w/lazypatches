{
 "cells": [
  {
   "cell_type": "code",
   "execution_count": null,
   "metadata": {},
   "outputs": [],
   "source": [
    "import numpy as np\n",
    "import matplotlib.pyplot as plt\n",
    "import matplotlib\n",
    "matplotlib.rcParams[\"mathtext.fontset\"] = \"stix\"\n",
    "matplotlib.rcParams[\"font.family\"] = \"STIXGeneral\"\n",
    "plt.rc(\"font\", size=15, family=\"serif\", serif=\"Times New Roman\")\n",
    "\n",
    "def plot_bar(keys, values, labels, x_name, fig_name):\n",
    "    fig, ax = plt.subplots(figsize=(3, 2))\n",
    "\n",
    "    x = np.linspace(0, 0.3, len(keys))\n",
    "    if values.shape[0] == 1:\n",
    "        width = 0.06\n",
    "        bar = ax.bar(x, values[0], width, color='green', edgecolor='gray')\n",
    "        ax.bar_label(bar, fmt=\"%.1f\", padding=1, fontsize=10)\n",
    "        ax.set_xticks(x)\n",
    "        x_ticks = [str(key) for key in keys]\n",
    "        ax.set_xticklabels(x_ticks, fontsize=12, fontname=\"Times New Roman\")\n",
    "        \n",
    "        ax.tick_params(axis='both', direction='in')\n",
    "        ax.tick_params(axis='x', length=0)\n",
    "\n",
    "        ax.set_title(f\"{fig_name}\")\n",
    "        ax.set_xlabel(f\"{x_name}\", fontsize=15, fontname=\"Times New Roman\")\n",
    "        ax.set_ylabel(\"Accuracy\", fontsize=15, fontname=\"Times New Roman\")\n",
    "        ax.set_ylim(0, 80)\n",
    "        plt.savefig(f\"k_plot.pdf\", bbox_inches='tight')\n",
    "    else:\n",
    "        width = 0.06\n",
    "        bar1 = ax.bar(x - width/2, values[0], width, label=labels[0], color='yellowgreen', edgecolor='gray')\n",
    "        bar2 = ax.bar(x + width/2, values[1], width, label=labels[1], color='green', edgecolor='gray')\n",
    "        ax.bar_label(bar1, fmt=\"%.1f\", padding=1, fontsize=10)\n",
    "        ax.bar_label(bar2, fmt=\"%.1f\", padding=1, fontsize=10)\n",
    "        ax.set_xticks(x)\n",
    "        x_ticks = [str(key) for key in keys]\n",
    "        ax.set_xticklabels(x_ticks, fontsize=12, fontname=\"Times New Roman\")\n",
    "        \n",
    "        ax.tick_params(axis='both', direction='in')\n",
    "        ax.tick_params(axis='x', length=0)\n",
    "        ax.set_ylim(0, 70)\n",
    "\n",
    "        ax.legend(frameon=False, loc='center', ncol=4, bbox_to_anchor=(0.5, 1.15), fontsize=10, columnspacing=0.9, handletextpad=0.3)\n",
    "        ax.set_title(f\"{fig_name}\")\n",
    "        ax.set_xlabel(f\"{x_name}\", fontsize=15, fontname=\"Times New Roman\")\n",
    "        ax.set_ylabel(\"Accuracy\", fontsize=15, fontname=\"Times New Roman\")\n",
    "        plt.savefig(f\"eta_plot.pdf\", bbox_inches='tight')\n"
   ]
  },
  {
   "cell_type": "code",
   "execution_count": null,
   "metadata": {},
   "outputs": [],
   "source": [
    "keys = [1, 10, 50, 100]\n",
    "accuracys = np.array([[57.2667, 60, 65.9333, 57.4667]])\n",
    "labels = [None]\n",
    "x_name = '$k$'\n",
    "fig_name = ''\n",
    "plot_bar(keys, accuracys, labels, x_name, fig_name)\n"
   ]
  },
  {
   "cell_type": "code",
   "execution_count": null,
   "metadata": {},
   "outputs": [],
   "source": [
    "keys = [0.005, 0.05, 0.5]\n",
    "accuracys = np.array([[46.7333, 46.8, 46.8],\n",
    "                      [55.2667, 52.1333, 52.4]\n",
    "                      ])\n",
    "labels = ['Layer 0', 'Layer 4']\n",
    "x_name = '$\\eta$'\n",
    "fig_name = ''\n",
    "plot_bar(keys, accuracys, labels, x_name, fig_name)"
   ]
  }
 ],
 "metadata": {
  "kernelspec": {
   "display_name": "m3project",
   "language": "python",
   "name": "python3"
  },
  "language_info": {
   "codemirror_mode": {
    "name": "ipython",
    "version": 3
   },
   "file_extension": ".py",
   "mimetype": "text/x-python",
   "name": "python",
   "nbconvert_exporter": "python",
   "pygments_lexer": "ipython3",
   "version": "3.10.12"
  }
 },
 "nbformat": 4,
 "nbformat_minor": 2
}
