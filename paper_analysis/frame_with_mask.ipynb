{
 "cells": [
  {
   "cell_type": "code",
   "execution_count": null,
   "metadata": {},
   "outputs": [],
   "source": [
    "from inference.utils.vision_process import fetch_video\n",
    "\n",
    "import torch\n",
    "import matplotlib.pyplot as plt\n",
    "import numpy as np\n"
   ]
  },
  {
   "cell_type": "code",
   "execution_count": null,
   "metadata": {},
   "outputs": [],
   "source": [
    "video_info = {\"type\": \"video\", \"video\": '/home/hpc/g102ea/g102ea12/lazypatches/rough/monkey.gif', \"fps\": 1}\n",
    "video = fetch_video(video_info)\n",
    "print(video.shape)"
   ]
  },
  {
   "cell_type": "code",
   "execution_count": null,
   "metadata": {},
   "outputs": [],
   "source": [
    "def generate_video_with_mask(video_path, mask):\n",
    "    video_info = {\"type\": \"video\", \"video\": '/home/hpc/g102ea/g102ea12/lazypatches/rough/monkey.gif', \"fps\": 2}\n",
    "    extracted_video = fetch_video(video_info).permute(0, 2, 3, 1)\n",
    "    patch_size = 14\n",
    "    frames_with_mask = torch.zeros_like(extracted_video)\n",
    "    for Ti,frame in enumerate(extracted_video.shape[0]):\n",
    "        for Hi,h in enumerate(range(0, extracted_video.shape[1], patch_size)):\n",
    "            for Wi,w in enumerate(range(0, extracted_video.shape[2], patch_size)):\n",
    "                patch = frame[h:h+patch_size, w:w+patch_size, :]\n",
    "                if mask[Ti, Hi, Wi]:\n",
    "                    frames_with_mask[Ti, h+pat]\n",
    "                    \n",
    "    \n",
    "    "
   ]
  },
  {
   "cell_type": "code",
   "execution_count": null,
   "metadata": {},
   "outputs": [],
   "source": [
    "img_tensor = video # 变换维度，从 [4, 3, 280, 392] 到 [4, 280, 392, 3]\n",
    "\n",
    "# 创建一个 2x2 网格来显示图片\n",
    "img_tensor = (img_tensor - img_tensor.min()) / (img_tensor.max() - img_tensor.min())  # 归一化\n",
    "\n",
    "# 将张量从 [4, 3, 280, 392] 转换为 [4, 280, 392, 3]\n",
    "img_tensor = img_tensor.permute(0, 2, 3, 1)  # 变换维度，从 [4, 3, 280, 392] 到 [4, 280, 392, 3]\n",
    "\n",
    "num_grids = (10, 14)\n",
    "patch_size = (int(img_tensor.shape[1]//num_grids[0]), int(img_tensor.shape[2]//num_grids[1]))\n",
    "\n",
    "n_frames = 2\n",
    "mask = np.array([[1., 1., 1., 1., 1., 0., 0., 1., 1., 1., 1., 0., 0., 1.],\n",
    "        [1., 0., 0., 0., 0., 0., 0., 1., 0., 0., 0., 1., 0., 1.],\n",
    "        [1., 0., 0., 0., 0., 0., 0., 0., 1., 1., 1., 0., 1., 1.],\n",
    "        [0., 1., 0., 0., 0., 0., 0., 0., 0., 0., 0., 0., 0., 0.],\n",
    "        [0., 0., 0., 0., 0., 0., 0., 1., 0., 0., 0., 0., 0., 0.],\n",
    "        [0., 0., 0., 0., 0., 0., 0., 1., 0., 0., 1., 1., 0., 0.],\n",
    "        [1., 0., 0., 0., 0., 0., 0., 1., 0., 0., 0., 1., 0., 1.],\n",
    "        [0., 1., 0., 0., 0., 0., 1., 0., 0., 0., 0., 0., 0., 1.],\n",
    "        [0., 0., 1., 0., 0., 1., 0., 0., 0., 0., 0., 0., 1., 1.],\n",
    "        [0., 0., 0., 0., 0., 0., 1., 0., 0., 0., 0.,0.,0.,0.]])\n",
    "def apply_random_mask_to_patches(img_tensor, patch_size):\n",
    "    B, H, W, C = img_tensor.shape  # B: batch size, H: height, W: width, C: channels\n",
    "    masked_image = torch.zeros_like(img_tensor)  # 用于存储 mask 后的图像\n",
    "\n",
    "    # 对每张图片进行处理\n",
    "    for i in range(B):\n",
    "        img = img_tensor[i]  # 获取一张图片，形状 [H, W, C]\n",
    "        \n",
    "        # 对每个 patch 进行处理\n",
    "        for h in range(0, H, patch_size[0]):\n",
    "            for w in range(0, W, patch_size[1]):\n",
    "                # 选取一个 patch\n",
    "                patch = img[h:h+patch_size[0], w:w+patch_size[1], :]\n",
    "                \n",
    "                # 生成随机 mask (28x28)，值为0或1，控制整个 patch 遮挡\n",
    "                # mask = torch.randint(0, 2, (1,), dtype=torch.float32)  # 生成一个随机二进制值 (0 或 1)\n",
    "                # mask = ()\n",
    "                \n",
    "                # 如果 mask 为 1，则保留 patch 内容；如果 mask 为 0，则将 patch 屏蔽\n",
    "                if mask[h//28][w//28] == 1:\n",
    "                    masked_image[i, h:h+patch_size[0], w:w+patch_size[1], :] = patch\n",
    "                # 如果 mask == 0, patch 会保持为 0（即被遮挡）\n",
    "    \n",
    "    return masked_image\n",
    "\n",
    "# 调用函数并处理\n",
    "masked_image = apply_random_mask_to_patches(img_tensor, patch_size)\n",
    "\n",
    "# 显示每张图像的处理结果\n",
    "for i in range(img_tensor.shape[0]):  # 显示四张处理过的图像\n",
    "    plt.figure()\n",
    "    plt.imshow(masked_image[i].numpy())\n",
    "    plt.axis('off')  # 关闭坐标轴\n",
    "    plt.show()"
   ]
  },
  {
   "cell_type": "code",
   "execution_count": null,
   "metadata": {},
   "outputs": [],
   "source": [
    "import cv2"
   ]
  },
  {
   "cell_type": "code",
   "execution_count": null,
   "metadata": {},
   "outputs": [],
   "source": [
    "print(masked_image.shape, type(masked_image), torch.min(masked_image), torch.max(masked_image))\n",
    "# 将 masked_image 从 [4, 280, 392, 3] 转换为 [4, 3, 280, 392] 的 numpy 数组格式，以适应 OpenCV\n",
    "masked_image_np = masked_image.permute(0, 3, 1, 2).numpy()  # [4, 3, 280, 392] -> [4, 3, 280, 392]\n",
    "print(masked_image_np.shape)\n",
    "# 为保存视频，设置视频编码\n",
    "fourcc = cv2.VideoWriter_fourcc(*'mp4v')  # 使用 XVID 编码器（适用性广泛）\n",
    "fps = 1  # 每秒 10 帧，可以根据需要调整\n",
    "width = masked_image_np.shape[3]  # 视频宽度 392\n",
    "height = masked_image_np.shape[2]  # 视频高度 280\n",
    "print(width, height)\n",
    "\n",
    "# 创建一个 VideoWriter 对象来保存视频\n",
    "out = cv2.VideoWriter('output_video.mp4', fourcc, fps, (width, height))\n",
    "\n",
    "# 将每一帧添加到视频中\n",
    "for i in range(masked_image.shape[0]):\n",
    "    # 获取当前图像帧，并将其转换为 BGR 格式（OpenCV 使用 BGR，而不是 RGB）\n",
    "    frame = masked_image_np[i].transpose(1, 2, 0) * 255  # 转换为 [height, width, channels] 并放大到 [0, 255]\n",
    "    frame = cv2.cvtColor(frame, cv2.COLOR_RGB2BGR)\n",
    "    frame = np.uint8(frame)  # 确保数据类型为 uint8\n",
    "    print(np.min(frame), np.max(frame))\n",
    "    # 将帧写入视频\n",
    "    out.write(frame)\n",
    "\n",
    "# 释放 VideoWriter 对象\n",
    "out.release()"
   ]
  },
  {
   "cell_type": "code",
   "execution_count": null,
   "metadata": {},
   "outputs": [],
   "source": [
    "import imageio\n",
    "\n",
    "input_video = 'output_video.mp4'  # 视频文件路径\n",
    "output_gif = 'output_video.gif'  # GIF 输出文件路径\n",
    "\n",
    "\n",
    "# 使用 imageio 读取视频\n",
    "video = imageio.get_reader(input_video)\n",
    "\n",
    "# 使用 imageio 将视频保存为 GIF\n",
    "with imageio.get_writer(output_gif, mode='I', duration=4) as writer:  # duration 设置每帧之间的间隔（例如 1/30 秒）\n",
    "    for frame in video:\n",
    "        writer.append_data(frame)  # 将每一帧写入 GIF\n",
    "\n",
    "print(f'GIF saved to {output_gif}')"
   ]
  }
 ],
 "metadata": {
  "kernelspec": {
   "display_name": ".env",
   "language": "python",
   "name": "python3"
  },
  "language_info": {
   "codemirror_mode": {
    "name": "ipython",
    "version": 3
   },
   "file_extension": ".py",
   "mimetype": "text/x-python",
   "name": "python",
   "nbconvert_exporter": "python",
   "pygments_lexer": "ipython3",
   "version": "3.10.12"
  }
 },
 "nbformat": 4,
 "nbformat_minor": 2
}
