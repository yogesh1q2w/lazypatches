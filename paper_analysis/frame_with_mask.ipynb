{
 "cells": [
  {
   "cell_type": "code",
   "execution_count": null,
   "metadata": {},
   "outputs": [],
   "source": [
    "from inference.utils.vision_process import fetch_video\n",
    "\n",
    "import torch\n",
    "import matplotlib.pyplot as plt\n",
    "import numpy as np\n",
    "import cv2\n",
    "import os\n",
    "from pathlib import Path"
   ]
  },
  {
   "cell_type": "code",
   "execution_count": null,
   "metadata": {},
   "outputs": [],
   "source": [
    "video_info = {\"type\": \"video\", \"video\": '/home/hpc/g102ea/g102ea12/lazypatches/rough/monkey.gif', \"fps\": 2}\n",
    "video = fetch_video('/home/hpc/g102ea/g102ea12/lazypatches/rough/monkey.gif')[0::2, :, :, :]\n",
    "print(video.shape)"
   ]
  },
  {
   "cell_type": "code",
   "execution_count": null,
   "metadata": {},
   "outputs": [],
   "source": [
    "def generate_video(frames_tensor, save_path):\n",
    "    frames_np = frames_tensor.permute(0, 3, 1, 2).numpy()\n",
    "    fourcc = cv2.VideoWriter_fourcc(*'mp4v')\n",
    "    fps = 1  \n",
    "    width = frames_np.shape[3]\n",
    "    height = frames_np.shape[2]\n",
    "\n",
    "    out = cv2.VideoWriter(save_path, fourcc, fps, (width, height))\n",
    "\n",
    "    for i in range(frames_np.shape[0]):\n",
    "        frame = frames_np[i].transpose(1, 2, 0) * 255  \n",
    "        frame = cv2.cvtColor(frame, cv2.COLOR_RGB2BGR)\n",
    "        frame = np.uint8(frame) \n",
    "        out.write(frame)\n",
    "\n",
    "    out.release()"
   ]
  },
  {
   "cell_type": "code",
   "execution_count": null,
   "metadata": {},
   "outputs": [],
   "source": [
    "def generate_video_with_mask(video_path, mask, save=False):\n",
    "    show_frames_with_mask = True\n",
    "    video_name = video_path.split('/')[-1]\n",
    "    save_folder = Path('/home/atuin/g102ea/shared/group_10/video_with_mask')\n",
    "    save_folder.mkdir(parents=True, exist_ok=True)\n",
    "    save_path = str(save_folder/video_name)\n",
    "    print(save_path)\n",
    "    print(video_path)\n",
    "    extracted_video = fetch_video(video_path).permute(0, 2, 3, 1)[0::2, :, :, :]\n",
    "    extracted_video = (extracted_video - extracted_video.min()) / (extracted_video.max() - extracted_video.min())\n",
    "    print(extracted_video.shape)\n",
    "    \n",
    "    assert extracted_video.shape[0] == mask.shape[0]\n",
    "    \n",
    "    patch_size = 14\n",
    "    alpha = 0.2\n",
    "    frames_with_mask = extracted_video.clone()\n",
    "    for Ti in range(extracted_video.shape[0]):\n",
    "        for Hi,h in enumerate(range(0, extracted_video.shape[1], patch_size)):\n",
    "            for Wi,w in enumerate(range(0, extracted_video.shape[2], patch_size)):\n",
    "                patch_img = extracted_video[Ti, h:h+patch_size, w:w+patch_size, :]\n",
    "                if not mask[Ti, Hi, Wi]:\n",
    "                    frames_with_mask[Ti, h:h+patch_size, w:w+patch_size, :] = (alpha * patch_img + (1 - alpha) * 1.0)\n",
    "    if save:\n",
    "        generate_video(frames_with_mask, save_path)\n",
    "    \n",
    "    if show_frames_with_mask:\n",
    "        for i in range(extracted_video.shape[0]):\n",
    "            plt.figure()\n",
    "            plt.imshow(frames_with_mask[i].numpy())\n",
    "            plt.axis('off')\n",
    "            plt.show()\n",
    "    \n",
    "    return frames_with_mask    "
   ]
  },
  {
   "cell_type": "code",
   "execution_count": null,
   "metadata": {},
   "outputs": [],
   "source": [
    "video_path = '/home/atuin/g102ea/shared/group_10/datasets/charades/videos/Charades_v1/0A8CF.mp4'\n",
    "mask = torch.randint(0, 2, (15, 26, 20), dtype=torch.float32)\n",
    "# print(mask)\n",
    "fames_with_mask = generate_video_with_mask(video_path, mask)"
   ]
  }
 ],
 "metadata": {
  "kernelspec": {
   "display_name": ".env",
   "language": "python",
   "name": "python3"
  },
  "language_info": {
   "codemirror_mode": {
    "name": "ipython",
    "version": 3
   },
   "file_extension": ".py",
   "mimetype": "text/x-python",
   "name": "python",
   "nbconvert_exporter": "python",
   "pygments_lexer": "ipython3",
   "version": "3.10.12"
  }
 },
 "nbformat": 4,
 "nbformat_minor": 2
}
